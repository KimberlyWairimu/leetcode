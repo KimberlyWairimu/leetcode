{
 "cells": [
  {
   "cell_type": "code",
   "execution_count": 5,
   "metadata": {},
   "outputs": [
    {
     "name": "stdout",
     "output_type": "stream",
     "text": [
      "None\n"
     ]
    }
   ],
   "source": [
    "#Defining a function to check if parenthesis are valid\n",
    "def isValid(s):\n",
    "    #initializing an empty stack to store opening brackets\n",
    "    stack = []\n",
    "    #mapping closing brackets to opening brackets\n",
    "    mapping = {\")\":\"(\" ,\"}\":\"{\" , \"]\":\"[\" }\n",
    "    #iterating through each character in the string\n",
    "    for char in s:\n",
    "        #if its an opening bracket push it to the stack\n",
    "        if char in \"({[\":\n",
    "            stack.append(char)\n",
    "        #if its a closing bracket\n",
    "        elif char in \")}]\":\n",
    "            #if stack is empty or the top element doesnt match the corresponding opening bracket return false\n",
    "            if not stack or stack[-1] != mapping[char]:\n",
    "                return False\n",
    "            #if it matches, pop the last opened bracket from the stack\n",
    "            else:\n",
    "                stack.pop()\n",
    "        else:\n",
    "            return False\n",
    "    \n",
    "\n",
    "print(isValid(\"()\"))\n",
    "\n",
    "            \n",
    "\n",
    "        \n"
   ]
  },
  {
   "cell_type": "code",
   "execution_count": null,
   "metadata": {},
   "outputs": [],
   "source": []
  }
 ],
 "metadata": {
  "kernelspec": {
   "display_name": "spark-env",
   "language": "python",
   "name": "python3"
  },
  "language_info": {
   "codemirror_mode": {
    "name": "ipython",
    "version": 3
   },
   "file_extension": ".py",
   "mimetype": "text/x-python",
   "name": "python",
   "nbconvert_exporter": "python",
   "pygments_lexer": "ipython3",
   "version": "3.10.12"
  }
 },
 "nbformat": 4,
 "nbformat_minor": 2
}
