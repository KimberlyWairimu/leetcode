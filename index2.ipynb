{
 "cells": [
  {
   "cell_type": "code",
   "execution_count": null,
   "metadata": {},
   "outputs": [
    {
     "name": "stdout",
     "output_type": "stream",
     "text": [
      "2\n"
     ]
    }
   ],
   "source": [
    "#declaring a function to find the squareroot of x\n",
    "def MySqrt(x):\n",
    "    #initializing the search space: lower bound = 0 and upper bound = x\n",
    "    lower, upper = 0, x\n",
    "    #looping will stop when lower bound is greater than the upper bound\n",
    "    while lower <= upper:\n",
    "        # Performing the binary search: finding the mid number\n",
    "        mid = (lower + upper)//2\n",
    "        #if mid * mid equals x, then we found the  exact squareroot\n",
    "        if mid * mid == x:\n",
    "            return mid\n",
    "        #if mid * mid is less than x, then move the lower bound up\n",
    "        elif mid * mid < x:\n",
    "            lower = mid + 1\n",
    "        #if mid * mid is greater than x, the move the upper bound down\n",
    "        elif mid * mid > x:\n",
    "            upper = mid - 1\n",
    "    # The loop exits when lower > upper, meaning upper holds the largest integer ≤ sqrt(x)\n",
    "    return upper\n",
    "#print the squareroot of 8\n",
    "print(MySqrt(8))"
   ]
  },
  {
   "cell_type": "code",
   "execution_count": null,
   "metadata": {},
   "outputs": [],
   "source": []
  }
 ],
 "metadata": {
  "kernelspec": {
   "display_name": "spark-env",
   "language": "python",
   "name": "python3"
  },
  "language_info": {
   "codemirror_mode": {
    "name": "ipython",
    "version": 3
   },
   "file_extension": ".py",
   "mimetype": "text/x-python",
   "name": "python",
   "nbconvert_exporter": "python",
   "pygments_lexer": "ipython3",
   "version": "3.10.12"
  }
 },
 "nbformat": 4,
 "nbformat_minor": 2
}
