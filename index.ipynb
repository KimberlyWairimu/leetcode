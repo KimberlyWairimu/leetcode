{
 "cells": [
  {
   "cell_type": "code",
   "execution_count": null,
   "metadata": {},
   "outputs": [
    {
     "name": "stdout",
     "output_type": "stream",
     "text": [
      "8\n"
     ]
    }
   ],
   "source": [
    "#declaring a function to calculate the number of ways to climb 'n' stairs\n",
    "def climbing_stairs(n):\n",
    "    #Base cases: If there is only 1 step there is only 1 way to climb it\n",
    "    if n==1:\n",
    "        return 1\n",
    "    #If there are only 2 steps there are only 2 ways to climb it(1+1,2)\n",
    "    elif n==2:\n",
    "        return 2\n",
    "    #Initializing variables to store the number of ways to climb the previous 2 steps\n",
    "    a,b = 1,2\n",
    "    #Iterating from the 3rd step to the nth step\n",
    "    for i in range(3, n+1):\n",
    "        #current step equals to the sum of the previous 2 steps\n",
    "        current_step = a+b\n",
    "        #move a to the next step\n",
    "        a = b\n",
    "        #move b to the current step\n",
    "        b = current_step\n",
    "    #return the number of ways to climb n steps\n",
    "    return b\n",
    "#print the number of ways to climb 5 steps\n",
    "print(climbing_stairs(5))"
   ]
  },
  {
   "cell_type": "code",
   "execution_count": null,
   "metadata": {},
   "outputs": [],
   "source": []
  }
 ],
 "metadata": {
  "kernelspec": {
   "display_name": "spark-env",
   "language": "python",
   "name": "python3"
  },
  "language_info": {
   "codemirror_mode": {
    "name": "ipython",
    "version": 3
   },
   "file_extension": ".py",
   "mimetype": "text/x-python",
   "name": "python",
   "nbconvert_exporter": "python",
   "pygments_lexer": "ipython3",
   "version": "3.10.12"
  }
 },
 "nbformat": 4,
 "nbformat_minor": 2
}
