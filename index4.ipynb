{
 "cells": [
  {
   "cell_type": "code",
   "execution_count": 1,
   "metadata": {},
   "outputs": [
    {
     "name": "stdout",
     "output_type": "stream",
     "text": [
      "None\n"
     ]
    }
   ],
   "source": [
    "#Defining a function\n",
    "def generate(numRows):\n",
    "    #initializing the first row\n",
    "    result = [[1]]\n",
    "    # looping to generate each row\n",
    "    for i in range(1, numRows):\n",
    "        #getting the last row from the result\n",
    "        prev_row = result[-1]\n",
    "        # Computing the new row using values from the previous row\n",
    "        #looping through the previous row\n",
    "        for j in range(len(prev_row) - 1):\n",
    "            new_row = [1] + prev_row[j] + prev_row[j+1] + [1]\n",
    "            return new_row\n",
    "print(generate(5))\n"
   ]
  },
  {
   "cell_type": "code",
   "execution_count": null,
   "metadata": {},
   "outputs": [],
   "source": []
  }
 ],
 "metadata": {
  "kernelspec": {
   "display_name": "spark-env",
   "language": "python",
   "name": "python3"
  },
  "language_info": {
   "codemirror_mode": {
    "name": "ipython",
    "version": 3
   },
   "file_extension": ".py",
   "mimetype": "text/x-python",
   "name": "python",
   "nbconvert_exporter": "python",
   "pygments_lexer": "ipython3",
   "version": "3.10.12"
  }
 },
 "nbformat": 4,
 "nbformat_minor": 2
}
